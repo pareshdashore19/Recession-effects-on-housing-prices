{
 "cells": [
  {
   "cell_type": "code",
   "execution_count": 1,
   "metadata": {
    "collapsed": true
   },
   "outputs": [],
   "source": [
    "import pandas as pd\n",
    "import numpy as np\n",
    "from scipy.stats import ttest_ind"
   ]
  },
  {
   "cell_type": "markdown",
   "metadata": {},
   "source": [
    "Definitions: A quarter is a specific three month period, Q1 is January through March, Q2 is April through June, Q3 is July through September, Q4 is October through December. \n",
    "\n",
    "A recession is defined as starting with two consecutive quarters of GDP decline, and ending with two consecutive quarters of GDP growth. A recession bottom is the quarter within a recession which had the lowest GDP. \n",
    "A university town is a city which has a high percentage of university students compared to the total population of the city. \n",
    "\n",
    "Hypothesis: University towns have their mean housing prices less effected by recessions. \n",
    "\n",
    "We would Run a t-test to compare the ratio of the mean price of houses in university towns the quarter before the recession starts compared to the recession bottom. (price_ratio=quarter_before_recession/recession_bottom)"
   ]
  },
  {
   "cell_type": "code",
   "execution_count": 2,
   "metadata": {
    "collapsed": true
   },
   "outputs": [],
   "source": [
    "# Use this dictionary to map state names to two letter acronyms\n",
    "states = {'OH': 'Ohio', 'KY': 'Kentucky', 'AS': 'American Samoa', 'NV': 'Nevada', 'WY': 'Wyoming', 'NA': 'National', 'AL': 'Alabama', 'MD': 'Maryland', 'AK': 'Alaska', 'UT': 'Utah', 'OR': 'Oregon', 'MT': 'Montana', 'IL': 'Illinois', 'TN': 'Tennessee', 'DC': 'District of Columbia', 'VT': 'Vermont', 'ID': 'Idaho', 'AR': 'Arkansas', 'ME': 'Maine', 'WA': 'Washington', 'HI': 'Hawaii', 'WI': 'Wisconsin', 'MI': 'Michigan', 'IN': 'Indiana', 'NJ': 'New Jersey', 'AZ': 'Arizona', 'GU': 'Guam', 'MS': 'Mississippi', 'PR': 'Puerto Rico', 'NC': 'North Carolina', 'TX': 'Texas', 'SD': 'South Dakota', 'MP': 'Northern Mariana Islands', 'IA': 'Iowa', 'MO': 'Missouri', 'CT': 'Connecticut', 'WV': 'West Virginia', 'SC': 'South Carolina', 'LA': 'Louisiana', 'KS': 'Kansas', 'NY': 'New York', 'NE': 'Nebraska', 'OK': 'Oklahoma', 'FL': 'Florida', 'CA': 'California', 'CO': 'Colorado', 'PA': 'Pennsylvania', 'DE': 'Delaware', 'NM': 'New Mexico', 'RI': 'Rhode Island', 'MN': 'Minnesota', 'VI': 'Virgin Islands', 'NH': 'New Hampshire', 'MA': 'Massachusetts', 'GA': 'Georgia', 'ND': 'North Dakota', 'VA': 'Virginia'}"
   ]
  },
  {
   "cell_type": "code",
   "execution_count": 3,
   "metadata": {
    "collapsed": true
   },
   "outputs": [],
   "source": [
    "def get_list_of_university_towns():\n",
    "    df=pd.read_csv('university_towns.txt',sep='\\n',header=None,names= ['raw data'])\n",
    "\n",
    "    df1 = pd.DataFrame(columns=[ \"State\",\"RegionName\"])\n",
    "    index=len(df.index)\n",
    "    for x in range(index):\n",
    "        if (df.loc[x,'raw data'])[-6:]=='[edit]':\n",
    "            state=(df.loc[x,'raw data'])[:-6]\n",
    "            continue\n",
    "        b=df.loc[x,'raw data']\n",
    "        word=''\n",
    "        for y in b:\n",
    "            if y=='[' or y=='(':\n",
    "                word=word.strip()\n",
    "                break\n",
    "            word=word+y\n",
    "        \n",
    "        b=pd.Series([state,word],index=['State','RegionName'])    \n",
    "    \n",
    "        df1=df1.append(b,ignore_index=True)\n",
    "    \n",
    "\n",
    "    \n",
    "\n",
    "        \n",
    "    \n",
    "    \n",
    "    \n",
    "    return df1"
   ]
  },
  {
   "cell_type": "code",
   "execution_count": 11,
   "metadata": {},
   "outputs": [
    {
     "data": {
      "text/html": [
       "<div>\n",
       "<table border=\"1\" class=\"dataframe\">\n",
       "  <thead>\n",
       "    <tr style=\"text-align: right;\">\n",
       "      <th></th>\n",
       "      <th>State</th>\n",
       "      <th>RegionName</th>\n",
       "    </tr>\n",
       "  </thead>\n",
       "  <tbody>\n",
       "    <tr>\n",
       "      <th>0</th>\n",
       "      <td>Alabama</td>\n",
       "      <td>Auburn</td>\n",
       "    </tr>\n",
       "    <tr>\n",
       "      <th>1</th>\n",
       "      <td>Alabama</td>\n",
       "      <td>Florence</td>\n",
       "    </tr>\n",
       "    <tr>\n",
       "      <th>2</th>\n",
       "      <td>Alabama</td>\n",
       "      <td>Jacksonville</td>\n",
       "    </tr>\n",
       "    <tr>\n",
       "      <th>3</th>\n",
       "      <td>Alabama</td>\n",
       "      <td>Livingston</td>\n",
       "    </tr>\n",
       "    <tr>\n",
       "      <th>4</th>\n",
       "      <td>Alabama</td>\n",
       "      <td>Montevallo</td>\n",
       "    </tr>\n",
       "  </tbody>\n",
       "</table>\n",
       "</div>"
      ],
      "text/plain": [
       "     State    RegionName\n",
       "0  Alabama        Auburn\n",
       "1  Alabama      Florence\n",
       "2  Alabama  Jacksonville\n",
       "3  Alabama    Livingston\n",
       "4  Alabama    Montevallo"
      ]
     },
     "execution_count": 11,
     "metadata": {},
     "output_type": "execute_result"
    }
   ],
   "source": [
    "get_list_of_university_towns().head()"
   ]
  },
  {
   "cell_type": "code",
   "execution_count": 4,
   "metadata": {
    "collapsed": true
   },
   "outputs": [],
   "source": [
    "def get_recession_start():\n",
    "    df=pd.read_excel('gdplev.xls')\n",
    "    df=df[['Unnamed: 4','Unnamed: 6']]\n",
    "    df.rename(columns={'Unnamed: 4':'Year','Unnamed: 6':'GDP'},inplace=True)\n",
    "\n",
    "    df=df.set_index('Year')\n",
    "    df=df.loc['2000q1':]\n",
    "    df.reset_index(inplace=True)\n",
    "    for i in range(2,len(df.index)):\n",
    "    \n",
    "        if(df.loc[i,'GDP'] -df.loc[i-1,'GDP'])<0 and (df.loc[i-1,'GDP']-df.loc[i-2,'GDP'])<0:\n",
    "            a=df.loc[i-1,'Year']\n",
    "            break\n",
    "\n",
    "               \n",
    "               \n",
    "\n",
    "    \n",
    "    return a"
   ]
  },
  {
   "cell_type": "code",
   "execution_count": 12,
   "metadata": {},
   "outputs": [
    {
     "data": {
      "text/plain": [
       "'2008q3'"
      ]
     },
     "execution_count": 12,
     "metadata": {},
     "output_type": "execute_result"
    }
   ],
   "source": [
    "get_recession_start()"
   ]
  },
  {
   "cell_type": "code",
   "execution_count": 5,
   "metadata": {
    "collapsed": true
   },
   "outputs": [],
   "source": [
    "def get_recession_end():\n",
    "    df=pd.read_excel('gdplev.xls')\n",
    "    df=df[['Unnamed: 4','Unnamed: 6']]\n",
    "    df.rename(columns={'Unnamed: 4':'Year','Unnamed: 6':'GDP'},inplace=True)\n",
    "\n",
    "    df=df.set_index('Year')\n",
    "    df=df.loc['2000q1':]\n",
    "    df.reset_index(inplace=True)\n",
    "    for i in range(2,len(df.index)):\n",
    "    \n",
    "        if(df.loc[i,'GDP'] -df.loc[i-1,'GDP'])<0 and (df.loc[i-1,'GDP']-df.loc[i-2,'GDP'])<0:\n",
    "            for x in range(i+2,len(df.index)):\n",
    "                if(df.loc[x,'GDP']-df.loc[x-1,'GDP'])>0 and (df.loc[x-1,'GDP']-df.loc[x-2,'GDP'])>0:\n",
    "                    a=df.loc[x,'Year']\n",
    "                    break\n",
    "            break\n",
    "        else:\n",
    "            pass\n",
    "    \n",
    "\n",
    "    \n",
    "\n",
    "             \n",
    "               \n",
    "\n",
    "       \n",
    "    return a"
   ]
  },
  {
   "cell_type": "code",
   "execution_count": 13,
   "metadata": {},
   "outputs": [
    {
     "data": {
      "text/plain": [
       "'2009q4'"
      ]
     },
     "execution_count": 13,
     "metadata": {},
     "output_type": "execute_result"
    }
   ],
   "source": [
    "get_recession_end()"
   ]
  },
  {
   "cell_type": "code",
   "execution_count": 7,
   "metadata": {},
   "outputs": [],
   "source": [
    "def get_recession_bottom():\n",
    "        df=pd.read_excel('gdplev.xls')\n",
    "        df=df[['Unnamed: 4','Unnamed: 6']]\n",
    "        df.rename(columns={'Unnamed: 4':'Year','Unnamed: 6':'GDP'},inplace=True)\n",
    "\n",
    "        df=df.set_index('Year')\n",
    "        df=df.loc['2000q1':]\n",
    "        df.reset_index(inplace=True)\n",
    "        lst=list()\n",
    "        for i in range(2,len(df.index)):\n",
    "    \n",
    "            if(df.loc[i,'GDP'] -df.loc[i-1,'GDP'])<0 and (df.loc[i-1,'GDP']-df.loc[i-2,'GDP'])<0:\n",
    "                for x in range(i+2,len(df.index)):\n",
    "                    if(df.loc[x,'GDP']-df.loc[x-1,'GDP'])>0 and (df.loc[x-1,'GDP']-df.loc[x-2,'GDP']):\n",
    "                        lst.append(df.loc[i:x,'GDP'].min())\n",
    "                    \n",
    "                    \n",
    "                    break\n",
    "                    \n",
    "                    \n",
    "        df= df[df['GDP']== min(lst)] \n",
    "    \n",
    "        return df.iloc[0]['Year']"
   ]
  },
  {
   "cell_type": "code",
   "execution_count": 14,
   "metadata": {},
   "outputs": [
    {
     "data": {
      "text/plain": [
       "'2009q2'"
      ]
     },
     "execution_count": 14,
     "metadata": {},
     "output_type": "execute_result"
    }
   ],
   "source": [
    "get_recession_bottom()"
   ]
  },
  {
   "cell_type": "code",
   "execution_count": 8,
   "metadata": {
    "collapsed": true
   },
   "outputs": [],
   "source": [
    "def convert_housing_data_to_quarters():\n",
    "    df=pd.read_csv('City_Zhvi_AllHomes.csv')\n",
    "\n",
    "    for i in range(len(df.columns)):\n",
    "        if df.columns[i]=='2000-01':\n",
    "            break\n",
    "    col=list(df.columns[i:])\n",
    "    col=['State','RegionName']+col\n",
    "    df=df[col]\n",
    "    def bak(row):\n",
    "        row['State']=states[row['State']]\n",
    "        return row['State']\n",
    "    \n",
    "    a=df.apply(bak,axis=1)\n",
    "    df['State']=a\n",
    "    df.set_index(['State','RegionName'],inplace=True)\n",
    "    df.columns = pd.to_datetime(df.columns)\n",
    "    df=df.resample('Q',axis=1).mean()\n",
    "    per=df.columns.to_period()\n",
    "    df.columns=(per)\n",
    "    df.columns=df.columns.to_series().astype(str)\n",
    "    df.columns=df.columns.map(str.lower)\n",
    "\n",
    "    \n",
    "    \n",
    "    \n",
    "    return df"
   ]
  },
  {
   "cell_type": "code",
   "execution_count": 15,
   "metadata": {},
   "outputs": [
    {
     "data": {
      "text/html": [
       "<div>\n",
       "<table border=\"1\" class=\"dataframe\">\n",
       "  <thead>\n",
       "    <tr style=\"text-align: right;\">\n",
       "      <th></th>\n",
       "      <th></th>\n",
       "      <th>2000q1</th>\n",
       "      <th>2000q2</th>\n",
       "      <th>2000q3</th>\n",
       "      <th>2000q4</th>\n",
       "      <th>2001q1</th>\n",
       "      <th>2001q2</th>\n",
       "      <th>2001q3</th>\n",
       "      <th>2001q4</th>\n",
       "      <th>2002q1</th>\n",
       "      <th>2002q2</th>\n",
       "      <th>...</th>\n",
       "      <th>2014q2</th>\n",
       "      <th>2014q3</th>\n",
       "      <th>2014q4</th>\n",
       "      <th>2015q1</th>\n",
       "      <th>2015q2</th>\n",
       "      <th>2015q3</th>\n",
       "      <th>2015q4</th>\n",
       "      <th>2016q1</th>\n",
       "      <th>2016q2</th>\n",
       "      <th>2016q3</th>\n",
       "    </tr>\n",
       "    <tr>\n",
       "      <th>State</th>\n",
       "      <th>RegionName</th>\n",
       "      <th></th>\n",
       "      <th></th>\n",
       "      <th></th>\n",
       "      <th></th>\n",
       "      <th></th>\n",
       "      <th></th>\n",
       "      <th></th>\n",
       "      <th></th>\n",
       "      <th></th>\n",
       "      <th></th>\n",
       "      <th></th>\n",
       "      <th></th>\n",
       "      <th></th>\n",
       "      <th></th>\n",
       "      <th></th>\n",
       "      <th></th>\n",
       "      <th></th>\n",
       "      <th></th>\n",
       "      <th></th>\n",
       "      <th></th>\n",
       "      <th></th>\n",
       "    </tr>\n",
       "  </thead>\n",
       "  <tbody>\n",
       "    <tr>\n",
       "      <th>New York</th>\n",
       "      <th>New York</th>\n",
       "      <td>NaN</td>\n",
       "      <td>NaN</td>\n",
       "      <td>NaN</td>\n",
       "      <td>NaN</td>\n",
       "      <td>NaN</td>\n",
       "      <td>NaN</td>\n",
       "      <td>NaN</td>\n",
       "      <td>NaN</td>\n",
       "      <td>NaN</td>\n",
       "      <td>NaN</td>\n",
       "      <td>...</td>\n",
       "      <td>515466.666667</td>\n",
       "      <td>522800.000000</td>\n",
       "      <td>528066.666667</td>\n",
       "      <td>532266.666667</td>\n",
       "      <td>540800.000000</td>\n",
       "      <td>557200.000000</td>\n",
       "      <td>572833.333333</td>\n",
       "      <td>582866.666667</td>\n",
       "      <td>591633.333333</td>\n",
       "      <td>587200.0</td>\n",
       "    </tr>\n",
       "    <tr>\n",
       "      <th>California</th>\n",
       "      <th>Los Angeles</th>\n",
       "      <td>207066.666667</td>\n",
       "      <td>214466.666667</td>\n",
       "      <td>220966.666667</td>\n",
       "      <td>226166.666667</td>\n",
       "      <td>233000.000000</td>\n",
       "      <td>239100.000000</td>\n",
       "      <td>245066.666667</td>\n",
       "      <td>253033.333333</td>\n",
       "      <td>261966.666667</td>\n",
       "      <td>272700.000000</td>\n",
       "      <td>...</td>\n",
       "      <td>498033.333333</td>\n",
       "      <td>509066.666667</td>\n",
       "      <td>518866.666667</td>\n",
       "      <td>528800.000000</td>\n",
       "      <td>538166.666667</td>\n",
       "      <td>547266.666667</td>\n",
       "      <td>557733.333333</td>\n",
       "      <td>566033.333333</td>\n",
       "      <td>577466.666667</td>\n",
       "      <td>584050.0</td>\n",
       "    </tr>\n",
       "    <tr>\n",
       "      <th>Illinois</th>\n",
       "      <th>Chicago</th>\n",
       "      <td>138400.000000</td>\n",
       "      <td>143633.333333</td>\n",
       "      <td>147866.666667</td>\n",
       "      <td>152133.333333</td>\n",
       "      <td>156933.333333</td>\n",
       "      <td>161800.000000</td>\n",
       "      <td>166400.000000</td>\n",
       "      <td>170433.333333</td>\n",
       "      <td>175500.000000</td>\n",
       "      <td>177566.666667</td>\n",
       "      <td>...</td>\n",
       "      <td>192633.333333</td>\n",
       "      <td>195766.666667</td>\n",
       "      <td>201266.666667</td>\n",
       "      <td>201066.666667</td>\n",
       "      <td>206033.333333</td>\n",
       "      <td>208300.000000</td>\n",
       "      <td>207900.000000</td>\n",
       "      <td>206066.666667</td>\n",
       "      <td>208200.000000</td>\n",
       "      <td>212000.0</td>\n",
       "    </tr>\n",
       "    <tr>\n",
       "      <th>Pennsylvania</th>\n",
       "      <th>Philadelphia</th>\n",
       "      <td>53000.000000</td>\n",
       "      <td>53633.333333</td>\n",
       "      <td>54133.333333</td>\n",
       "      <td>54700.000000</td>\n",
       "      <td>55333.333333</td>\n",
       "      <td>55533.333333</td>\n",
       "      <td>56266.666667</td>\n",
       "      <td>57533.333333</td>\n",
       "      <td>59133.333333</td>\n",
       "      <td>60733.333333</td>\n",
       "      <td>...</td>\n",
       "      <td>113733.333333</td>\n",
       "      <td>115300.000000</td>\n",
       "      <td>115666.666667</td>\n",
       "      <td>116200.000000</td>\n",
       "      <td>117966.666667</td>\n",
       "      <td>121233.333333</td>\n",
       "      <td>122200.000000</td>\n",
       "      <td>123433.333333</td>\n",
       "      <td>126933.333333</td>\n",
       "      <td>128700.0</td>\n",
       "    </tr>\n",
       "    <tr>\n",
       "      <th>Arizona</th>\n",
       "      <th>Phoenix</th>\n",
       "      <td>111833.333333</td>\n",
       "      <td>114366.666667</td>\n",
       "      <td>116000.000000</td>\n",
       "      <td>117400.000000</td>\n",
       "      <td>119600.000000</td>\n",
       "      <td>121566.666667</td>\n",
       "      <td>122700.000000</td>\n",
       "      <td>124300.000000</td>\n",
       "      <td>126533.333333</td>\n",
       "      <td>128366.666667</td>\n",
       "      <td>...</td>\n",
       "      <td>164266.666667</td>\n",
       "      <td>165366.666667</td>\n",
       "      <td>168500.000000</td>\n",
       "      <td>171533.333333</td>\n",
       "      <td>174166.666667</td>\n",
       "      <td>179066.666667</td>\n",
       "      <td>183833.333333</td>\n",
       "      <td>187900.000000</td>\n",
       "      <td>191433.333333</td>\n",
       "      <td>195200.0</td>\n",
       "    </tr>\n",
       "  </tbody>\n",
       "</table>\n",
       "<p>5 rows × 67 columns</p>\n",
       "</div>"
      ],
      "text/plain": [
       "                                  2000q1         2000q2         2000q3  \\\n",
       "State        RegionName                                                  \n",
       "New York     New York                NaN            NaN            NaN   \n",
       "California   Los Angeles   207066.666667  214466.666667  220966.666667   \n",
       "Illinois     Chicago       138400.000000  143633.333333  147866.666667   \n",
       "Pennsylvania Philadelphia   53000.000000   53633.333333   54133.333333   \n",
       "Arizona      Phoenix       111833.333333  114366.666667  116000.000000   \n",
       "\n",
       "                                  2000q4         2001q1         2001q2  \\\n",
       "State        RegionName                                                  \n",
       "New York     New York                NaN            NaN            NaN   \n",
       "California   Los Angeles   226166.666667  233000.000000  239100.000000   \n",
       "Illinois     Chicago       152133.333333  156933.333333  161800.000000   \n",
       "Pennsylvania Philadelphia   54700.000000   55333.333333   55533.333333   \n",
       "Arizona      Phoenix       117400.000000  119600.000000  121566.666667   \n",
       "\n",
       "                                  2001q3         2001q4         2002q1  \\\n",
       "State        RegionName                                                  \n",
       "New York     New York                NaN            NaN            NaN   \n",
       "California   Los Angeles   245066.666667  253033.333333  261966.666667   \n",
       "Illinois     Chicago       166400.000000  170433.333333  175500.000000   \n",
       "Pennsylvania Philadelphia   56266.666667   57533.333333   59133.333333   \n",
       "Arizona      Phoenix       122700.000000  124300.000000  126533.333333   \n",
       "\n",
       "                                  2002q2    ...            2014q2  \\\n",
       "State        RegionName                     ...                     \n",
       "New York     New York                NaN    ...     515466.666667   \n",
       "California   Los Angeles   272700.000000    ...     498033.333333   \n",
       "Illinois     Chicago       177566.666667    ...     192633.333333   \n",
       "Pennsylvania Philadelphia   60733.333333    ...     113733.333333   \n",
       "Arizona      Phoenix       128366.666667    ...     164266.666667   \n",
       "\n",
       "                                  2014q3         2014q4         2015q1  \\\n",
       "State        RegionName                                                  \n",
       "New York     New York      522800.000000  528066.666667  532266.666667   \n",
       "California   Los Angeles   509066.666667  518866.666667  528800.000000   \n",
       "Illinois     Chicago       195766.666667  201266.666667  201066.666667   \n",
       "Pennsylvania Philadelphia  115300.000000  115666.666667  116200.000000   \n",
       "Arizona      Phoenix       165366.666667  168500.000000  171533.333333   \n",
       "\n",
       "                                  2015q2         2015q3         2015q4  \\\n",
       "State        RegionName                                                  \n",
       "New York     New York      540800.000000  557200.000000  572833.333333   \n",
       "California   Los Angeles   538166.666667  547266.666667  557733.333333   \n",
       "Illinois     Chicago       206033.333333  208300.000000  207900.000000   \n",
       "Pennsylvania Philadelphia  117966.666667  121233.333333  122200.000000   \n",
       "Arizona      Phoenix       174166.666667  179066.666667  183833.333333   \n",
       "\n",
       "                                  2016q1         2016q2    2016q3  \n",
       "State        RegionName                                            \n",
       "New York     New York      582866.666667  591633.333333  587200.0  \n",
       "California   Los Angeles   566033.333333  577466.666667  584050.0  \n",
       "Illinois     Chicago       206066.666667  208200.000000  212000.0  \n",
       "Pennsylvania Philadelphia  123433.333333  126933.333333  128700.0  \n",
       "Arizona      Phoenix       187900.000000  191433.333333  195200.0  \n",
       "\n",
       "[5 rows x 67 columns]"
      ]
     },
     "execution_count": 15,
     "metadata": {},
     "output_type": "execute_result"
    }
   ],
   "source": [
    "convert_housing_data_to_quarters().head()"
   ]
  },
  {
   "cell_type": "code",
   "execution_count": 9,
   "metadata": {
    "collapsed": true
   },
   "outputs": [],
   "source": [
    "def run_ttest():\n",
    "    hdf=convert_housing_data_to_quarters()\n",
    "    start=get_recession_start()\n",
    "\n",
    "    i=(list(hdf.columns)).index(start)\n",
    "    rec_start=hdf.columns[i-1]\n",
    "    rec_bottom = get_recession_bottom()\n",
    "    hdf['PriceRatio']=hdf[rec_start]/hdf[rec_bottom]\n",
    "    hdf=hdf['PriceRatio']\n",
    "    hdf.dropna(inplace=True)\n",
    "    df1=get_list_of_university_towns()\n",
    "    a=df1.set_index(['State','RegionName'])\n",
    "    i=list(a.index)\n",
    "    i2=list(hdf.index)\n",
    "    hdf1=hdf.loc[i]\n",
    "    hdf1.dropna(inplace=True)\n",
    "    for x in i:\n",
    "        if i in i2:\n",
    "            i2.remove(x)\n",
    "        \n",
    "        \n",
    "    hdf2=(hdf.loc[i2])\n",
    "    if (ttest_ind(hdf1,hdf2))[1] <0.01:\n",
    "        diff=True\n",
    "    else:\n",
    "        diff=False\n",
    "    \n",
    "    if hdf1.mean() < hdf2.mean():\n",
    "        better=\"university town\"\n",
    "    else:\n",
    "        better='\"non-university town\"'\n",
    "    \n",
    "    return (diff,(ttest_ind(hdf1,hdf2))[1],better)"
   ]
  },
  {
   "cell_type": "code",
   "execution_count": 10,
   "metadata": {},
   "outputs": [
    {
     "data": {
      "text/plain": [
       "(True, 0.0074890107104271485, 'university town')"
      ]
     },
     "execution_count": 10,
     "metadata": {},
     "output_type": "execute_result"
    }
   ],
   "source": [
    "run_ttest()"
   ]
  },
  {
   "cell_type": "code",
   "execution_count": null,
   "metadata": {
    "collapsed": true
   },
   "outputs": [],
   "source": []
  }
 ],
 "metadata": {
  "kernelspec": {
   "display_name": "Python 3",
   "language": "python",
   "name": "python3"
  },
  "language_info": {
   "codemirror_mode": {
    "name": "ipython",
    "version": 3
   },
   "file_extension": ".py",
   "mimetype": "text/x-python",
   "name": "python",
   "nbconvert_exporter": "python",
   "pygments_lexer": "ipython3",
   "version": "3.6.2"
  }
 },
 "nbformat": 4,
 "nbformat_minor": 2
}
